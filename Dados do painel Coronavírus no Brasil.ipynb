{
 "cells": [
  {
   "cell_type": "markdown",
   "metadata": {},
   "source": [
    "Nome: João Vitor Santos do Nascimento e Wagner Kenji Franco Kamoei,\n",
    "\n",
    "Turma A,\n",
    "\n",
    "Dados: https://covid.saude.gov.br/\n"
   ]
  },
  {
   "cell_type": "code",
   "execution_count": 1,
   "metadata": {},
   "outputs": [],
   "source": [
    "import pandas as pd\n",
    "low_memory = False\n",
    "import matplotlib.pyplot as plt\n",
    "%matplotlib inline \n",
    "pd.options.display.max_columns = 80\n",
    "pd.options.display.max_rows = 90"
   ]
  },
  {
   "cell_type": "code",
   "execution_count": 2,
   "metadata": {},
   "outputs": [],
   "source": [
    "filename = r'C:\\Users\\João Vitor.Edna-PC\\Downloads\\HIST_PAINEL_COVIDBR_05jul2020.xlsx'\n",
    "df = pd.read_excel(filename)"
   ]
  },
  {
   "cell_type": "code",
   "execution_count": 3,
   "metadata": {},
   "outputs": [
    {
     "data": {
      "text/plain": [
       "(548793, 17)"
      ]
     },
     "execution_count": 3,
     "metadata": {},
     "output_type": "execute_result"
    }
   ],
   "source": [
    "df.shape "
   ]
  },
  {
   "cell_type": "code",
   "execution_count": 4,
   "metadata": {},
   "outputs": [
    {
     "name": "stdout",
     "output_type": "stream",
     "text": [
      "<class 'pandas.core.frame.DataFrame'>\n",
      "RangeIndex: 548793 entries, 0 to 548792\n",
      "Data columns (total 17 columns):\n",
      " #   Column                  Non-Null Count   Dtype         \n",
      "---  ------                  --------------   -----         \n",
      " 0   regiao                  548793 non-null  object        \n",
      " 1   estado                  548661 non-null  object        \n",
      " 2   municipio               542976 non-null  object        \n",
      " 3   coduf                   548793 non-null  int64         \n",
      " 4   codmun                  545097 non-null  float64       \n",
      " 5   codRegiaoSaude          542976 non-null  float64       \n",
      " 6   nomeRegiaoSaude         542976 non-null  object        \n",
      " 7   data                    548793 non-null  datetime64[ns]\n",
      " 8   semanaEpi               548793 non-null  int64         \n",
      " 9   populacaoTCU2019        546672 non-null  object        \n",
      " 10  casosAcumulado          548793 non-null  int64         \n",
      " 11  casosNovos              548793 non-null  int64         \n",
      " 12  obitosAcumulado         548793 non-null  int64         \n",
      " 13  obitosNovos             548793 non-null  int64         \n",
      " 14  Recuperadosnovos        78 non-null      float64       \n",
      " 15  emAcompanhamentoNovos   78 non-null      float64       \n",
      " 16  interior/metropolitana  542976 non-null  float64       \n",
      "dtypes: datetime64[ns](1), float64(5), int64(6), object(5)\n",
      "memory usage: 60.7+ MB\n"
     ]
    }
   ],
   "source": [
    "df.info()"
   ]
  },
  {
   "cell_type": "code",
   "execution_count": 5,
   "metadata": {},
   "outputs": [
    {
     "data": {
      "text/html": [
       "<div>\n",
       "<style scoped>\n",
       "    .dataframe tbody tr th:only-of-type {\n",
       "        vertical-align: middle;\n",
       "    }\n",
       "\n",
       "    .dataframe tbody tr th {\n",
       "        vertical-align: top;\n",
       "    }\n",
       "\n",
       "    .dataframe thead th {\n",
       "        text-align: right;\n",
       "    }\n",
       "</style>\n",
       "<table border=\"1\" class=\"dataframe\">\n",
       "  <thead>\n",
       "    <tr style=\"text-align: right;\">\n",
       "      <th></th>\n",
       "      <th>regiao</th>\n",
       "      <th>estado</th>\n",
       "      <th>municipio</th>\n",
       "      <th>coduf</th>\n",
       "      <th>codmun</th>\n",
       "      <th>codRegiaoSaude</th>\n",
       "      <th>nomeRegiaoSaude</th>\n",
       "      <th>data</th>\n",
       "      <th>semanaEpi</th>\n",
       "      <th>populacaoTCU2019</th>\n",
       "      <th>casosAcumulado</th>\n",
       "      <th>casosNovos</th>\n",
       "      <th>obitosAcumulado</th>\n",
       "      <th>obitosNovos</th>\n",
       "      <th>Recuperadosnovos</th>\n",
       "      <th>emAcompanhamentoNovos</th>\n",
       "      <th>interior/metropolitana</th>\n",
       "    </tr>\n",
       "  </thead>\n",
       "  <tbody>\n",
       "    <tr>\n",
       "      <th>366743</th>\n",
       "      <td>Sudeste</td>\n",
       "      <td>SP</td>\n",
       "      <td>Morro Agudo</td>\n",
       "      <td>35</td>\n",
       "      <td>353190.0</td>\n",
       "      <td>35082.0</td>\n",
       "      <td>ALTA ANHANGUERA</td>\n",
       "      <td>2020-05-19</td>\n",
       "      <td>21</td>\n",
       "      <td>32968</td>\n",
       "      <td>18</td>\n",
       "      <td>0</td>\n",
       "      <td>0</td>\n",
       "      <td>0</td>\n",
       "      <td>NaN</td>\n",
       "      <td>NaN</td>\n",
       "      <td>0.0</td>\n",
       "    </tr>\n",
       "    <tr>\n",
       "      <th>352406</th>\n",
       "      <td>Sudeste</td>\n",
       "      <td>SP</td>\n",
       "      <td>Guarulhos</td>\n",
       "      <td>35</td>\n",
       "      <td>351880.0</td>\n",
       "      <td>35011.0</td>\n",
       "      <td>ALTO DO TIETE</td>\n",
       "      <td>2020-05-24</td>\n",
       "      <td>22</td>\n",
       "      <td>1379182</td>\n",
       "      <td>2072</td>\n",
       "      <td>21</td>\n",
       "      <td>226</td>\n",
       "      <td>1</td>\n",
       "      <td>NaN</td>\n",
       "      <td>NaN</td>\n",
       "      <td>1.0</td>\n",
       "    </tr>\n",
       "    <tr>\n",
       "      <th>415849</th>\n",
       "      <td>Sul</td>\n",
       "      <td>PR</td>\n",
       "      <td>Medianeira</td>\n",
       "      <td>41</td>\n",
       "      <td>411580.0</td>\n",
       "      <td>41009.0</td>\n",
       "      <td>9ª RS FOZ DO IGUACU</td>\n",
       "      <td>2020-06-08</td>\n",
       "      <td>24</td>\n",
       "      <td>46198</td>\n",
       "      <td>20</td>\n",
       "      <td>0</td>\n",
       "      <td>0</td>\n",
       "      <td>0</td>\n",
       "      <td>NaN</td>\n",
       "      <td>NaN</td>\n",
       "      <td>0.0</td>\n",
       "    </tr>\n",
       "    <tr>\n",
       "      <th>35175</th>\n",
       "      <td>Norte</td>\n",
       "      <td>AP</td>\n",
       "      <td>Tartarugalzinho</td>\n",
       "      <td>16</td>\n",
       "      <td>160070.0</td>\n",
       "      <td>16002.0</td>\n",
       "      <td>AREA NORTE</td>\n",
       "      <td>2020-06-03</td>\n",
       "      <td>23</td>\n",
       "      <td>17315</td>\n",
       "      <td>99</td>\n",
       "      <td>0</td>\n",
       "      <td>1</td>\n",
       "      <td>0</td>\n",
       "      <td>NaN</td>\n",
       "      <td>NaN</td>\n",
       "      <td>0.0</td>\n",
       "    </tr>\n",
       "    <tr>\n",
       "      <th>69428</th>\n",
       "      <td>Nordeste</td>\n",
       "      <td>MA</td>\n",
       "      <td>Tutóia</td>\n",
       "      <td>21</td>\n",
       "      <td>211250.0</td>\n",
       "      <td>21006.0</td>\n",
       "      <td>CHAPADINHA</td>\n",
       "      <td>2020-06-17</td>\n",
       "      <td>25</td>\n",
       "      <td>58860</td>\n",
       "      <td>579</td>\n",
       "      <td>27</td>\n",
       "      <td>13</td>\n",
       "      <td>0</td>\n",
       "      <td>NaN</td>\n",
       "      <td>NaN</td>\n",
       "      <td>0.0</td>\n",
       "    </tr>\n",
       "    <tr>\n",
       "      <th>269577</th>\n",
       "      <td>Sudeste</td>\n",
       "      <td>MG</td>\n",
       "      <td>José Gonçalves de Minas</td>\n",
       "      <td>31</td>\n",
       "      <td>313652.0</td>\n",
       "      <td>31027.0</td>\n",
       "      <td>TURMALINA/MINAS NOVAS/CAPELINHA</td>\n",
       "      <td>2020-05-15</td>\n",
       "      <td>20</td>\n",
       "      <td>4501</td>\n",
       "      <td>0</td>\n",
       "      <td>0</td>\n",
       "      <td>0</td>\n",
       "      <td>0</td>\n",
       "      <td>NaN</td>\n",
       "      <td>NaN</td>\n",
       "      <td>0.0</td>\n",
       "    </tr>\n",
       "    <tr>\n",
       "      <th>55255</th>\n",
       "      <td>Nordeste</td>\n",
       "      <td>MA</td>\n",
       "      <td>Feira Nova do Maranhão</td>\n",
       "      <td>21</td>\n",
       "      <td>210407.0</td>\n",
       "      <td>21003.0</td>\n",
       "      <td>BALSAS</td>\n",
       "      <td>2020-05-15</td>\n",
       "      <td>20</td>\n",
       "      <td>8504</td>\n",
       "      <td>1</td>\n",
       "      <td>1</td>\n",
       "      <td>0</td>\n",
       "      <td>0</td>\n",
       "      <td>NaN</td>\n",
       "      <td>NaN</td>\n",
       "      <td>0.0</td>\n",
       "    </tr>\n",
       "    <tr>\n",
       "      <th>315675</th>\n",
       "      <td>Sudeste</td>\n",
       "      <td>ES</td>\n",
       "      <td>Cariacica</td>\n",
       "      <td>32</td>\n",
       "      <td>320130.0</td>\n",
       "      <td>32002.0</td>\n",
       "      <td>METROPOLITANA</td>\n",
       "      <td>2020-06-26</td>\n",
       "      <td>26</td>\n",
       "      <td>381285</td>\n",
       "      <td>4681</td>\n",
       "      <td>121</td>\n",
       "      <td>224</td>\n",
       "      <td>4</td>\n",
       "      <td>NaN</td>\n",
       "      <td>NaN</td>\n",
       "      <td>1.0</td>\n",
       "    </tr>\n",
       "    <tr>\n",
       "      <th>131247</th>\n",
       "      <td>Nordeste</td>\n",
       "      <td>PB</td>\n",
       "      <td>Borborema</td>\n",
       "      <td>25</td>\n",
       "      <td>250270.0</td>\n",
       "      <td>25002.0</td>\n",
       "      <td>2ª REGIAO</td>\n",
       "      <td>2020-06-24</td>\n",
       "      <td>26</td>\n",
       "      <td>5263</td>\n",
       "      <td>4</td>\n",
       "      <td>0</td>\n",
       "      <td>0</td>\n",
       "      <td>0</td>\n",
       "      <td>NaN</td>\n",
       "      <td>NaN</td>\n",
       "      <td>0.0</td>\n",
       "    </tr>\n",
       "    <tr>\n",
       "      <th>457155</th>\n",
       "      <td>Sul</td>\n",
       "      <td>SC</td>\n",
       "      <td>São João Batista</td>\n",
       "      <td>42</td>\n",
       "      <td>421630.0</td>\n",
       "      <td>42007.0</td>\n",
       "      <td>GRANDE FLORIANOPOLIS</td>\n",
       "      <td>2020-06-05</td>\n",
       "      <td>23</td>\n",
       "      <td>37424</td>\n",
       "      <td>6</td>\n",
       "      <td>0</td>\n",
       "      <td>0</td>\n",
       "      <td>0</td>\n",
       "      <td>NaN</td>\n",
       "      <td>NaN</td>\n",
       "      <td>0.0</td>\n",
       "    </tr>\n",
       "  </tbody>\n",
       "</table>\n",
       "</div>"
      ],
      "text/plain": [
       "          regiao estado                municipio  coduf    codmun  \\\n",
       "366743   Sudeste     SP              Morro Agudo     35  353190.0   \n",
       "352406   Sudeste     SP                Guarulhos     35  351880.0   \n",
       "415849       Sul     PR               Medianeira     41  411580.0   \n",
       "35175      Norte     AP          Tartarugalzinho     16  160070.0   \n",
       "69428   Nordeste     MA                   Tutóia     21  211250.0   \n",
       "269577   Sudeste     MG  José Gonçalves de Minas     31  313652.0   \n",
       "55255   Nordeste     MA   Feira Nova do Maranhão     21  210407.0   \n",
       "315675   Sudeste     ES                Cariacica     32  320130.0   \n",
       "131247  Nordeste     PB                Borborema     25  250270.0   \n",
       "457155       Sul     SC         São João Batista     42  421630.0   \n",
       "\n",
       "        codRegiaoSaude                  nomeRegiaoSaude       data  semanaEpi  \\\n",
       "366743         35082.0                  ALTA ANHANGUERA 2020-05-19         21   \n",
       "352406         35011.0                    ALTO DO TIETE 2020-05-24         22   \n",
       "415849         41009.0              9ª RS FOZ DO IGUACU 2020-06-08         24   \n",
       "35175          16002.0                       AREA NORTE 2020-06-03         23   \n",
       "69428          21006.0                       CHAPADINHA 2020-06-17         25   \n",
       "269577         31027.0  TURMALINA/MINAS NOVAS/CAPELINHA 2020-05-15         20   \n",
       "55255          21003.0                           BALSAS 2020-05-15         20   \n",
       "315675         32002.0                    METROPOLITANA 2020-06-26         26   \n",
       "131247         25002.0                        2ª REGIAO 2020-06-24         26   \n",
       "457155         42007.0             GRANDE FLORIANOPOLIS 2020-06-05         23   \n",
       "\n",
       "       populacaoTCU2019  casosAcumulado  casosNovos  obitosAcumulado  \\\n",
       "366743            32968              18           0                0   \n",
       "352406          1379182            2072          21              226   \n",
       "415849            46198              20           0                0   \n",
       "35175             17315              99           0                1   \n",
       "69428             58860             579          27               13   \n",
       "269577             4501               0           0                0   \n",
       "55255              8504               1           1                0   \n",
       "315675           381285            4681         121              224   \n",
       "131247             5263               4           0                0   \n",
       "457155            37424               6           0                0   \n",
       "\n",
       "        obitosNovos  Recuperadosnovos  emAcompanhamentoNovos  \\\n",
       "366743            0               NaN                    NaN   \n",
       "352406            1               NaN                    NaN   \n",
       "415849            0               NaN                    NaN   \n",
       "35175             0               NaN                    NaN   \n",
       "69428             0               NaN                    NaN   \n",
       "269577            0               NaN                    NaN   \n",
       "55255             0               NaN                    NaN   \n",
       "315675            4               NaN                    NaN   \n",
       "131247            0               NaN                    NaN   \n",
       "457155            0               NaN                    NaN   \n",
       "\n",
       "        interior/metropolitana  \n",
       "366743                     0.0  \n",
       "352406                     1.0  \n",
       "415849                     0.0  \n",
       "35175                      0.0  \n",
       "69428                      0.0  \n",
       "269577                     0.0  \n",
       "55255                      0.0  \n",
       "315675                     1.0  \n",
       "131247                     0.0  \n",
       "457155                     0.0  "
      ]
     },
     "execution_count": 5,
     "metadata": {},
     "output_type": "execute_result"
    }
   ],
   "source": [
    "df.sample(10)"
   ]
  },
  {
   "cell_type": "code",
   "execution_count": 6,
   "metadata": {},
   "outputs": [
    {
     "data": {
      "text/plain": [
       "estado\n",
       "SP    320179\n",
       "CE    121464\n",
       "RJ    121292\n",
       "PA    113811\n",
       "MA     89714\n",
       "BA     87048\n",
       "AM     76014\n",
       "PE     65129\n",
       "MG     58283\n",
       "DF     57854\n",
       "ES     53393\n",
       "PB     52728\n",
       "AL     39935\n",
       "RN     34645\n",
       "SC     32969\n",
       "RS     31955\n",
       "PR     31459\n",
       "SE     30217\n",
       "AP     29883\n",
       "GO     28526\n",
       "PI     26079\n",
       "RO     23479\n",
       "MT     20891\n",
       "RR     18922\n",
       "AC     14622\n",
       "TO     12475\n",
       "MS     10089\n",
       "Name: casosAcumulado, dtype: int64"
      ]
     },
     "execution_count": 6,
     "metadata": {},
     "output_type": "execute_result"
    }
   ],
   "source": [
    "df.groupby('estado')['casosAcumulado'].max().sort_values(ascending=False)"
   ]
  },
  {
   "cell_type": "code",
   "execution_count": 7,
   "metadata": {},
   "outputs": [
    {
     "data": {
      "text/plain": [
       "<matplotlib.axes._subplots.AxesSubplot at 0x16790d90>"
      ]
     },
     "execution_count": 7,
     "metadata": {},
     "output_type": "execute_result"
    },
    {
     "data": {
      "image/png": "[encoded data removed]",
      "text/plain": [
       "<Figure size 432x288 with 1 Axes>"
      ]
     },
     "metadata": {
      "needs_background": "light"
     },
     "output_type": "display_data"
    }
   ],
   "source": [
    "df.groupby('estado')['casosAcumulado'].max().sort_values().tail(5).plot(kind='bar')"
   ]
  },
  {
   "cell_type": "code",
   "execution_count": 8,
   "metadata": {},
   "outputs": [
    {
     "data": {
      "text/plain": [
       "<matplotlib.axes._subplots.AxesSubplot at 0x112267c0>"
      ]
     },
     "execution_count": 8,
     "metadata": {},
     "output_type": "execute_result"
    },
    {
     "data": {
      "image/png": "[encoded data removed]",
      "text/plain": [
       "<Figure size 432x288 with 1 Axes>"
      ]
     },
     "metadata": {
      "needs_background": "light"
     },
     "output_type": "display_data"
    }
   ],
   "source": [
    "df.groupby('estado')['obitosAcumulado'].max().sort_values().tail(5).plot(kind='bar', color='RED')"
   ]
  },
  {
   "cell_type": "code",
   "execution_count": 12,
   "metadata": {},
   "outputs": [
    {
     "data": {
      "text/plain": [
       "<matplotlib.axes._subplots.AxesSubplot at 0x17ef9538>"
      ]
     },
     "execution_count": 12,
     "metadata": {},
     "output_type": "execute_result"
    },
    {
     "data": {
      "image/png": "[encoded data removed]",
      "text/plain": [
       "<Figure size 432x288 with 1 Axes>"
      ]
     },
     "metadata": {
      "needs_background": "light"
     },
     "output_type": "display_data"
    }
   ],
   "source": [
    "df.groupby('semanaEpi')['obitosNovos'].sum().plot(kind='bar', color='RED')"
   ]
  },
  {
   "cell_type": "code",
   "execution_count": 16,
   "metadata": {},
   "outputs": [
    {
     "data": {
      "text/plain": [
       "<matplotlib.axes._subplots.AxesSubplot at 0x191affa0>"
      ]
     },
     "execution_count": 16,
     "metadata": {},
     "output_type": "execute_result"
    },
    {
     "data": {
      "image/png": "[encoded data removed]",
      "text/plain": [
       "<Figure size 432x288 with 1 Axes>"
      ]
     },
     "metadata": {
      "needs_background": "light"
     },
     "output_type": "display_data"
    }
   ],
   "source": [
    "df.groupby('semanaEpi')['casosNovos'].sum().plot(kind='bar', color='YELLOW')"
   ]
  },
  {
   "cell_type": "code",
   "execution_count": 17,
   "metadata": {},
   "outputs": [
    {
     "data": {
      "text/plain": [
       "<matplotlib.axes._subplots.AxesSubplot at 0x192112e0>"
      ]
     },
     "execution_count": 17,
     "metadata": {},
     "output_type": "execute_result"
    },
    {
     "data": {
      "image/png": "[encoded data removed]",
      "text/plain": [
       "<Figure size 432x288 with 1 Axes>"
      ]
     },
     "metadata": {
      "needs_background": "light"
     },
     "output_type": "display_data"
    }
   ],
   "source": [
    "df.groupby('municipio')['casosNovos'].max().sort_values().tail(10).plot(kind='bar', x='data', y='casosNovos', color='YELLOW')"
   ]
  },
  {
   "cell_type": "code",
   "execution_count": 7,
   "metadata": {},
   "outputs": [
    {
     "data": {
      "text/plain": [
       "<matplotlib.axes._subplots.AxesSubplot at 0x1d7d5778>"
      ]
     },
     "execution_count": 7,
     "metadata": {},
     "output_type": "execute_result"
    },
    {
     "data": {
      "image/png": "[encoded data removed]",
      "text/plain": [
       "<Figure size 432x288 with 1 Axes>"
      ]
     },
     "metadata": {
      "needs_background": "light"
     },
     "output_type": "display_data"
    }
   ],
   "source": [
    "df.groupby('semanaEpi')['Recuperadosnovos'].sum().plot(kind='bar', color='GREEN')"
   ]
  },
  {
   "cell_type": "code",
   "execution_count": null,
   "metadata": {},
   "outputs": [],
   "source": []
  },
  {
   "cell_type": "code",
   "execution_count": null,
   "metadata": {},
   "outputs": [],
   "source": []
  }
 ],
 "metadata": {
  "kernelspec": {
   "display_name": "Python 3",
   "language": "python",
   "name": "python3"
  },
  "language_info": {
   "codemirror_mode": {
    "name": "ipython",
    "version": 3
   },
   "file_extension": ".py",
   "mimetype": "text/x-python",
   "name": "python",
   "nbconvert_exporter": "python",
   "pygments_lexer": "ipython3",
   "version": "3.8.3"
  }
 },
 "nbformat": 4,
 "nbformat_minor": 4
}
